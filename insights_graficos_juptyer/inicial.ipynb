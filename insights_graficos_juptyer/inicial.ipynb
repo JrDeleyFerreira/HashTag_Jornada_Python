{
 "cells": [
  {
   "cell_type": "markdown",
   "metadata": {},
   "source": [
    "# Python Insights - Analisando Dados com Python\n",
    "\n",
    "### Case - Cancelamento de Clientes\n",
    "\n",
    "Você foi contratado por uma empresa com mais de 800 mil clientes para um projeto de Dados. Recentemente a empresa percebeu que da sua base total de clientes, a maioria são clientes inativos, ou seja, que já cancelaram o serviço.\n",
    "\n",
    "Precisando melhorar seus resultados ela quer conseguir entender os principais motivos desses cancelamentos e quais as ações mais eficientes para reduzir esse número.\n",
    "\n",
    "Base de dados e arquivos: https://drive.google.com/drive/folders/1uDesZePdkhiraJmiyeZ-w5tfc8XsNYFZ?usp=drive_link"
   ]
  },
  {
   "cell_type": "code",
   "execution_count": 1,
   "metadata": {},
   "outputs": [
    {
     "data": {
      "text/plain": [
       "'Minha anaconda'"
      ]
     },
     "metadata": {},
     "output_type": "display_data"
    }
   ],
   "source": [
    "display('Minha anaconda')"
   ]
  },
  {
   "cell_type": "code",
   "execution_count": 2,
   "metadata": {},
   "outputs": [
    {
     "name": "stdout",
     "output_type": "stream",
     "text": [
      "asttokens==2.4.1\n",
      "attrs==23.2.0\n",
      "colorama==0.4.6\n",
      "comm==0.2.2\n",
      "debugpy==1.8.2\n",
      "decorator==5.1.1\n",
      "et-xmlfile==1.1.0\n",
      "executing==2.0.1\n",
      "fastjsonschema==2.20.0\n",
      "ipykernel==6.29.5\n",
      "ipython==8.26.0\n",
      "jedi==0.19.1\n",
      "jsonschema==4.23.0\n",
      "jsonschema-specifications==2023.12.1\n",
      "jupyter_client==8.6.2\n",
      "jupyter_core==5.7.2\n",
      "matplotlib-inline==0.1.7\n",
      "MouseInfo==0.1.3\n",
      "nbformat==5.10.4\n",
      "nest-asyncio==1.6.0\n",
      "numpy==2.0.0\n",
      "openpyxl==3.1.5\n",
      "packaging==24.1\n",
      "pandas==2.2.2\n",
      "parso==0.8.4\n",
      "patsy==0.5.6\n",
      "platformdirs==4.2.2\n",
      "plotly==5.22.0\n",
      "plotly-express==0.4.1\n",
      "prompt_toolkit==3.0.47\n",
      "psutil==6.0.0\n",
      "pure-eval==0.2.2\n",
      "PyAutoGUI==0.9.54\n",
      "PyGetWindow==0.0.9\n",
      "Pygments==2.18.0\n",
      "PyMsgBox==1.0.9\n",
      "pyperclip==1.9.0\n",
      "PyRect==0.2.0\n",
      "PyScreeze==0.1.30\n",
      "python-dateutil==2.9.0.post0\n",
      "pytweening==1.2.0\n",
      "pytz==2024.1\n",
      "pywin32==306\n",
      "pyzmq==26.0.3\n",
      "referencing==0.35.1\n",
      "rpds-py==0.19.0\n",
      "scipy==1.14.0\n",
      "six==1.16.0\n",
      "stack-data==0.6.3\n",
      "statsmodels==0.14.2\n",
      "tenacity==8.5.0\n",
      "tornado==6.4.1\n",
      "traitlets==5.14.3\n",
      "tzdata==2024.1\n",
      "wcwidth==0.2.13\n",
      "Note: you may need to restart the kernel to use updated packages.\n"
     ]
    }
   ],
   "source": [
    "%pip freeze"
   ]
  }
 ],
 "metadata": {
  "kernelspec": {
   "display_name": "base",
   "language": "python",
   "name": "python3"
  },
  "language_info": {
   "codemirror_mode": {
    "name": "ipython",
    "version": 3
   },
   "file_extension": ".py",
   "mimetype": "text/x-python",
   "name": "python",
   "nbconvert_exporter": "python",
   "pygments_lexer": "ipython3",
   "version": "3.12.4"
  },
  "orig_nbformat": 4
 },
 "nbformat": 4,
 "nbformat_minor": 2
}
